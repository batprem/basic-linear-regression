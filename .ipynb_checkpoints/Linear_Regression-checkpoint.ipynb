{
 "cells": [
  {
   "cell_type": "code",
   "execution_count": null,
   "id": "IxJmP_fU_3NM",
   "metadata": {
    "id": "IxJmP_fU_3NM"
   },
   "outputs": [],
   "source": [
    "!pip install -U ipywidgets"
   ]
  },
  {
   "cell_type": "markdown",
   "id": "a068e98c",
   "metadata": {
    "id": "a068e98c"
   },
   "source": [
    "# Import modules"
   ]
  },
  {
   "cell_type": "code",
   "execution_count": null,
   "id": "a989067c",
   "metadata": {
    "id": "a989067c"
   },
   "outputs": [],
   "source": [
    "%matplotlib inline\n",
    "# Math\n",
    "import numpy as np\n",
    "\n",
    "# Visualisation\n",
    "import matplotlib.pyplot as plt\n",
    "from ipywidgets import (\n",
    "    interact,\n",
    "    FloatSlider\n",
    ")\n",
    "\n",
    "# Animation\n",
    "from matplotlib.animation import FuncAnimation"
   ]
  },
  {
   "cell_type": "markdown",
   "id": "81c67bfb",
   "metadata": {
    "id": "81c67bfb"
   },
   "source": [
    "# Genarate Data"
   ]
  },
  {
   "cell_type": "code",
   "execution_count": null,
   "id": "ea8678fc",
   "metadata": {
    "id": "ea8678fc"
   },
   "outputs": [],
   "source": [
    "X = np.random.choice(np.arange(0, 2*np.pi, 0.1), 60)\n",
    "\n",
    "M = 5\n",
    "C = 1\n",
    "\n",
    "mu = 0\n",
    "sigma = 1.5\n",
    "noise = np.random.normal(mu, sigma, X.shape[0])\n",
    "\n",
    "true_function = M*X + C\n",
    "Y = true_function + noise"
   ]
  },
  {
   "cell_type": "markdown",
   "id": "3feb86f5",
   "metadata": {
    "id": "3feb86f5"
   },
   "source": [
    "# Manaul learning"
   ]
  },
  {
   "cell_type": "code",
   "execution_count": null,
   "id": "c1b4de35",
   "metadata": {
    "id": "c1b4de35",
    "scrolled": false
   },
   "outputs": [],
   "source": [
    "%matplotlib notebook\n",
    "plt.ion()\n",
    "fig = plt.figure(figsize=(8, 6))\n",
    "ax = fig.add_subplot(1, 1, 1)\n",
    "\n",
    "\n",
    "line, = ax.plot(X, X)\n",
    "ax.scatter(X, Y, color='r', alpha=0.25)\n",
    "\n",
    "\n",
    "def loss_function(\n",
    "    y: np.array,\n",
    "    prediction: np.array\n",
    ") -> np.array:\n",
    "    \"\"\"\n",
    "    Calculate loss funciton\n",
    "    \"\"\"\n",
    "    return np.mean((y - prediction)**2)\n",
    "\n",
    "\n",
    "def linear_function(\n",
    "    m: float,\n",
    "    c: float,\n",
    "    X: np.array\n",
    ") -> np.array:\n",
    "    \"\"\"\n",
    "    Calculate linear results\n",
    "    \"\"\"\n",
    "    return m*X + c\n",
    "\n",
    "\n",
    "def update_fig(\n",
    "    m: float=2,\n",
    "    c: float=0\n",
    ") -> None:\n",
    "    \"\"\"\n",
    "    Update figure to animate\n",
    "    \"\"\"\n",
    "    prediction = linear_function(m, c, X)\n",
    "    mse = loss_function(Y, prediction)\n",
    "    ax.set_title(f\"Error: {mse}\")\n",
    "    line.set_ydata(m*X + c)\n",
    "    try:\n",
    "        fig.canvas.draw_idle()\n",
    "    except AttributeError:\n",
    "        pass\n",
    "\n",
    "\n",
    "interact(\n",
    "    update_fig,\n",
    "    m=FloatSlider(min=0, max=10.0, step=0.05, value=0),\n",
    "    c=FloatSlider(min=-5, max=10.0, step=0.05, value=0)\n",
    ")"
   ]
  },
  {
   "cell_type": "markdown",
   "id": "a1f8f43c",
   "metadata": {
    "id": "a1f8f43c"
   },
   "source": [
    "# Stochastic Gradient Descent\n",
    "## Partial drift\n",
    "$$\n",
    "\\frac{\\partial}{\\partial m}\\text{Error function}(m; c, X, Y) =  \\frac{\\partial}{\\partial m}\\frac{1}{N}\\Sigma_{i=0}^{N-1}(y_i - (mx_i + c))^2 = -\\frac{2}{N}\\Sigma_{i=0}^{N-1}(y_i - (mx_i + c))(x_i)\n",
    "$$\n",
    "\n",
    "\n",
    "$$\n",
    "\\frac{\\partial}{\\partial c}\\text{Error function}(c; m, X, Y) = \\frac{\\partial}{\\partial c}\\frac{1}{N}\\Sigma_{i=0}^{N-1}(y_i - (mx_i + c))^2 = -\\frac{2}{N}\\Sigma_{i=0}^{N-1}(y_i - (mx_i + c))\n",
    "$$\n",
    "\n",
    "------"
   ]
  },
  {
   "cell_type": "code",
   "execution_count": null,
   "id": "846af52c",
   "metadata": {
    "id": "846af52c"
   },
   "outputs": [],
   "source": [
    "def dloss_dm(\n",
    "    m: float,\n",
    "    c: float,\n",
    "    X:np.array,\n",
    "    Y:np.array\n",
    ") -> float:\n",
    "    \"\"\"\n",
    "    Calculate gradient of m\n",
    "    \"\"\"\n",
    "    return -2 * np.mean((Y - (m *X + c)) * X)\n",
    "\n",
    "def dloss_dc(\n",
    "    m: float,\n",
    "    c: float,\n",
    "    X:np.array,\n",
    "    Y:np.array\n",
    ") -> float:\n",
    "    \"\"\"\n",
    "    Calculate gradient of c\n",
    "    \"\"\"\n",
    "    return -2 * np.mean((Y - (m *X + c)))\n",
    "\n",
    "\n",
    "print(f'dloss_dm: {dloss_dm(2, 1, X, Y)}')\n",
    "print(f'dloss_dc: {dloss_dc(2, 1, X, Y)}')"
   ]
  },
  {
   "cell_type": "markdown",
   "id": "12fc4623",
   "metadata": {
    "id": "12fc4623"
   },
   "source": [
    "## Limit\n",
    "$$\n",
    "\\frac{\\partial}{\\partial m}\\text{Error function}(m; c, X, Y) = \\lim_{\\Delta m \\to +0} \\frac{\\text{Error function}(m + \\Delta m) - \\text{Error function}(m)}{\\Delta m}\n",
    "$$\n",
    "\n",
    "$$\n",
    "\\frac{\\partial}{\\partial c}\\text{Error function}(m; c, X, Y) = \\lim_{\\Delta c \\to +0} \\frac{\\text{Error function}(c + \\Delta c) - \\text{Error function}(c)}{\\Delta c}\n",
    "$$"
   ]
  },
  {
   "cell_type": "code",
   "execution_count": null,
   "id": "78a779aa",
   "metadata": {
    "id": "78a779aa"
   },
   "outputs": [],
   "source": [
    "delta = 1e-10\n",
    "\n",
    "def error_function(\n",
    "    m:float,\n",
    "    c:float,\n",
    "    X:np.array,\n",
    "    Y:np.array,\n",
    "    loss_fuction=loss_function\n",
    ") -> float:\n",
    "    \"\"\"\n",
    "    Calculate error \n",
    "    \"\"\"\n",
    "    prediction = linear_function(m, c, X)\n",
    "    return loss_function(Y, prediction)\n",
    "\n",
    "\n",
    "def dloss_dm(\n",
    "    m: float,\n",
    "    c: float,\n",
    "    X: np.array,\n",
    "    Y: np.array\n",
    ") -> float:\n",
    "    \"\"\"\n",
    "    Calculate gradient of m \n",
    "    \"\"\"\n",
    "    return (\n",
    "        (error_function(m + delta, c, X, Y) - error_function(m, c, X, Y))/\n",
    "        delta\n",
    "    )\n",
    "\n",
    "def dloss_dc(\n",
    "    m: float,\n",
    "    c: float,\n",
    "    X: np.array,\n",
    "    Y: np.array\n",
    ") -> float:\n",
    "    return (\n",
    "        (error_function(m, c + delta, X, Y) - error_function(m, c, X, Y))/\n",
    "        delta\n",
    "    )\n",
    "\n",
    "print(f'dloss_dm: {dloss_dm(2, 1, X, Y)}')\n",
    "print(f'dloss_dc: {dloss_dc(2, 1, X, Y)}')"
   ]
  },
  {
   "cell_type": "markdown",
   "id": "2dad4aab",
   "metadata": {
    "id": "2dad4aab"
   },
   "source": [
    "# Update functions\n",
    "\n",
    "$$\n",
    "m \\leftarrow m - \\alpha \\frac{\\partial}{\\partial m}\\text{Error function}(m; c, X, Y) \\\\\n",
    "c \\leftarrow c - \\alpha \\frac{\\partial}{\\partial c}\\text{Error function}(c; m, X, Y)\n",
    "$$\n",
    "where $\\alpha$ is learning rate"
   ]
  },
  {
   "cell_type": "code",
   "execution_count": null,
   "id": "5dadc6a9",
   "metadata": {
    "id": "5dadc6a9"
   },
   "outputs": [],
   "source": [
    "def update_m(\n",
    "    m: float,\n",
    "    c: float,\n",
    "    X: np.array,\n",
    "    Y: np.array,\n",
    "    alpha: float\n",
    "):\n",
    "    \"\"\"\n",
    "    Update new weight of m\n",
    "    \"\"\"\n",
    "    return m - alpha * dloss_dm(m, c, X, Y)\n",
    "\n",
    "\n",
    "def update_c(\n",
    "    m: float,\n",
    "    c: float,\n",
    "    X: np.array,\n",
    "    Y: np.array,\n",
    "    alpha: float\n",
    "):\n",
    "    \"\"\"\n",
    "    Update new weight of c\n",
    "    \"\"\"\n",
    "    return c - alpha * dloss_dc(m, c, X, Y)"
   ]
  },
  {
   "cell_type": "markdown",
   "id": "258548c3",
   "metadata": {
    "id": "258548c3"
   },
   "source": [
    "# Train process\n",
    "## Intiatiate"
   ]
  },
  {
   "cell_type": "code",
   "execution_count": null,
   "id": "cacfa70c",
   "metadata": {
    "id": "cacfa70c"
   },
   "outputs": [],
   "source": [
    "m = -5\n",
    "c = -10\n",
    "\n",
    "alpha = 0.05\n",
    "iteration = 200"
   ]
  },
  {
   "cell_type": "markdown",
   "id": "56b387b2",
   "metadata": {
    "id": "56b387b2"
   },
   "source": [
    "## Start training"
   ]
  },
  {
   "cell_type": "code",
   "execution_count": null,
   "id": "d5922f11",
   "metadata": {
    "id": "d5922f11",
    "scrolled": false
   },
   "outputs": [],
   "source": [
    "plt.ioff()\n",
    "\n",
    "\n",
    "fig, (ax) = plt.subplots()\n",
    "ax.axis([min(X) - 1, max(X) + 1, min(Y) - 1, max(Y) + 1])\n",
    "ax.scatter(X, Y, color='r', alpha=0.25)\n",
    "l, = ax.plot([],[])\n",
    "\n",
    "\n",
    "\n",
    "def train(epoch):\n",
    "    \"\"\"\n",
    "    Start training\n",
    "    \"\"\"\n",
    "    global m, c\n",
    "    prediction = linear_function(m, c, X)\n",
    "    loss = loss_function(Y, prediction)\n",
    "    \n",
    "    \n",
    "    # Animate\n",
    "    ax.set_title(f\"Epoch: {epoch} Loss: {loss:2.6}\")\n",
    "    l.set_data(X, prediction)\n",
    "    \n",
    "    # Update weights\n",
    "    new_m = update_m(m, c, X, Y, alpha)\n",
    "    new_c = update_c(m, c, X, Y, alpha)\n",
    "    m = new_m\n",
    "    c = new_c\n",
    "    \n",
    "    \n",
    "\n",
    "ani = FuncAnimation(fig, train, frames=iteration)\n",
    "\n",
    "from IPython.display import HTML\n",
    "HTML(ani.to_jshtml())"
   ]
  },
  {
   "cell_type": "code",
   "execution_count": null,
   "id": "09fc531c",
   "metadata": {
    "id": "09fc531c"
   },
   "outputs": [],
   "source": [
    "class LinearRegressor:\n",
    "    def __init__(self, alpha: float):\n",
    "        # Initial weights\n",
    "        self.m = np.random.normal()\n",
    "        self.c = np.random.normal()\n",
    "        \n",
    "        # Assign learning rate\n",
    "        self.alpha = alpha\n",
    "    \n",
    "    @staticmethod\n",
    "    def loss_function(y: np.array, prediction: np.array) -> float:\n",
    "        \"\"\"\n",
    "        Calculate loss\n",
    "        \"\"\"\n",
    "        return np.mean((y - prediction)**2)\n",
    "\n",
    "    def error_function(\n",
    "        m: float,\n",
    "        c: float,\n",
    "        X: np.array,\n",
    "        Y: np.array\n",
    "    ):\n",
    "        prediction = linear_function(m, c, X)\n",
    "        return self.loss_function(Y, prediction)\n",
    "\n",
    "    @staticmethod\n",
    "    def dloss_dm(m:float, c:float, X:np.array, Y:np.array):\n",
    "        delta = 1e-10\n",
    "        error_plus_delta = error_function(m + delta, c, X, Y)\n",
    "        error = error_function(m, c, X, Y)\n",
    "        return (\n",
    "            (error_plus_delta - error)/\n",
    "            delta\n",
    "        )\n",
    "\n",
    "    @staticmethod\n",
    "    def dloss_dc(m:float, c:float, X:np.array, Y:np.array):\n",
    "        delta = 1e-10\n",
    "        return (\n",
    "            (error_function(m, c + delta, X, Y) - error_function(m, c, X, Y))/\n",
    "            delta\n",
    "        )\n",
    "    \n",
    "    def update_m(\n",
    "        self,\n",
    "        X: np.array,\n",
    "        Y: np.array\n",
    "    ):\n",
    "        return self.m - self.alpha * dloss_dm(self.m, self.c, X, Y)\n",
    "\n",
    "    def update_c(\n",
    "        self,\n",
    "        X: np.array,\n",
    "        Y: np.array,\n",
    "    ):\n",
    "        return self.c - self.alpha * dloss_dc(self.m, self.c, X, Y)\n",
    "    \n",
    "    def predict(self, X):\n",
    "        return self.m*X + self.c\n",
    "    \n",
    "    def fit(self, X, Y, epoch=20):\n",
    "        for e in range((epoch)):\n",
    "            print(f\"Epoch: {e}\")\n",
    "            prediction = self.predict(X)\n",
    "            loss = self.loss_function(prediction, Y)\n",
    "            print(f\"Loss: {loss}\")\n",
    "            \n",
    "            print(\"Update weight\")\n",
    "            new_m = self.update_m(X, Y)\n",
    "            new_c = self.update_c(X, Y)\n",
    "            \n",
    "            self.m = new_m\n",
    "            self.c = new_c\n",
    "            \n",
    "            print(f\"m = {self.m};\\nc = {self.c}\")\n",
    "            print('-' * 36)\n",
    "        \n",
    "        \n",
    "reg = LinearRegressor(0.05)\n",
    "reg.fit(X, Y)"
   ]
  },
  {
   "cell_type": "code",
   "execution_count": null,
   "id": "3fa7bcc8",
   "metadata": {
    "id": "3fa7bcc8"
   },
   "outputs": [],
   "source": [
    "reg.predict(np.array([4, 2, 1, 3]))"
   ]
  }
 ],
 "metadata": {
  "colab": {
   "collapsed_sections": [],
   "name": "Linear Regression.ipynb",
   "provenance": []
  },
  "kernelspec": {
   "display_name": "Python 3",
   "language": "python",
   "name": "python3"
  },
  "language_info": {
   "codemirror_mode": {
    "name": "ipython",
    "version": 3
   },
   "file_extension": ".py",
   "mimetype": "text/x-python",
   "name": "python",
   "nbconvert_exporter": "python",
   "pygments_lexer": "ipython3",
   "version": "3.8.8"
  },
  "toc": {
   "base_numbering": 1,
   "nav_menu": {},
   "number_sections": true,
   "sideBar": true,
   "skip_h1_title": false,
   "title_cell": "Table of Contents",
   "title_sidebar": "Contents",
   "toc_cell": false,
   "toc_position": {},
   "toc_section_display": true,
   "toc_window_display": true
  },
  "varInspector": {
   "cols": {
    "lenName": 16,
    "lenType": 16,
    "lenVar": 40
   },
   "kernels_config": {
    "python": {
     "delete_cmd_postfix": "",
     "delete_cmd_prefix": "del ",
     "library": "var_list.py",
     "varRefreshCmd": "print(var_dic_list())"
    },
    "r": {
     "delete_cmd_postfix": ") ",
     "delete_cmd_prefix": "rm(",
     "library": "var_list.r",
     "varRefreshCmd": "cat(var_dic_list()) "
    }
   },
   "types_to_exclude": [
    "module",
    "function",
    "builtin_function_or_method",
    "instance",
    "_Feature"
   ],
   "window_display": false
  }
 },
 "nbformat": 4,
 "nbformat_minor": 5
}
